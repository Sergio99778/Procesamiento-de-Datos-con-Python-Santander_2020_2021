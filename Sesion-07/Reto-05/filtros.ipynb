{
 "cells": [
  {
   "cell_type": "markdown",
   "metadata": {},
   "source": [
    "## Reto 5: Filtros\n",
    "\n",
    "### 1. Objetivos:\n",
    "    - Practicar el uso de filtros para la obtención de subconjuntos de datos\n",
    "    \n",
    "---\n",
    "    \n",
    "### 2. Desarrollo:"
   ]
  },
  {
   "cell_type": "markdown",
   "metadata": {},
   "source": [
    "#### a) Filtrando por fechas, booleanos y valores numéricos\n",
    "\n",
    "Vamos a trabajar con el mismo dataset que guardaste del Reto anterior. Este Reto consiste en los siguiente:\n",
    "\n",
    "Usando filtros, crea 3 subconjuntos de datos:\n",
    "\n",
    "1. Un subconjunto llamado `df_hazardous` que contenga sólo los records que correspondan a los objetos donde `is_potentially_hazardous_asteroid` sea `True` (o `1`).\n",
    "2. Un subconjunto llamado `df_greater_than_1000` que contenga sólo los records donde el `estimated_diameter.meters.estimated_diameter_max` sea mayor a 1000 metros.\n",
    "3. Un subconjunto llamado `df_february` que contenga sólo los records que pertenezcan exactamente al mes de Febrero de 1995. Recuerda que los datos en la columna `epoch_date_close_approach` están en milisegundos.\n"
   ]
  },
  {
   "cell_type": "code",
   "execution_count": 1,
   "metadata": {},
   "outputs": [],
   "source": [
    "import pandas as pd"
   ]
  },
  {
   "cell_type": "code",
   "execution_count": 2,
   "metadata": {},
   "outputs": [],
   "source": [
    "df_reto_5 = pd.read_csv('../retos/reto_4.csv')"
   ]
  },
  {
   "cell_type": "code",
   "execution_count": 3,
   "metadata": {},
   "outputs": [],
   "source": [
    "df_hazardous =df_reto_5[df_reto_5['is_potentially_hazardous_asteroid'] == True]"
   ]
  },
  {
   "cell_type": "code",
   "execution_count": 4,
   "metadata": {},
   "outputs": [],
   "source": [
    "df_bigger_than_1000 = df_reto_5[df_reto_5['estimated_diameter.meters.estimated_diameter_max'] > 1000]"
   ]
  },
  {
   "cell_type": "code",
   "execution_count": 5,
   "metadata": {},
   "outputs": [],
   "source": [
    "# YYYY-MM-DD HH:MM:SS to timestamp\n",
    "def to_timestamp(date):\n",
    "    return pd.to_datetime(date, format='%Y-%m-%d %H:%M:%S').timestamp() * 1000\n",
    "\n",
    "df_reto_5['epoch_date_close_approach'] = df_reto_5['epoch_date_close_approach'].apply(to_timestamp)\n",
    "df_february = df_reto_5[(df_reto_5['epoch_date_close_approach'] >= pd.to_datetime('1995-02-01', format='%Y-%m-%d').timestamp() * 1000) & (df_reto_5['epoch_date_close_approach'] < pd.to_datetime('1995-03-01', format='%Y-%m-%d').timestamp() * 1000)]\n"
   ]
  },
  {
   "cell_type": "markdown",
   "metadata": {},
   "source": [
    "Pídele a tu experta la función de verificación `checar_subconjuntos` (encontrada en el archivo `helpers.py` de la carpeta donde se encuentra este Reto), pégala debajo y corre la celda para verificar tu resultado:"
   ]
  },
  {
   "cell_type": "code",
   "execution_count": 6,
   "metadata": {},
   "outputs": [
    {
     "name": "stdout",
     "output_type": "stream",
     "text": [
      "Todos tus subconjuntos son correctos. ¡Gran trabajo!\n"
     ]
    }
   ],
   "source": [
    "# Pega aquí la función de verificación\n",
    "def checar_subconjuntos(df_february, df_hazardous, df_bigger_than_1000):\n",
    "    \n",
    "    import pandas as pd\n",
    "\n",
    "    assert (df_hazardous['is_potentially_hazardous_asteroid'] == 0).sum() == 0, 'Algunos records en `df_hazardous` pertenecen a objetos donde is_potentially_hazardous_asteroid es `False`'\n",
    "    assert (df_hazardous['is_potentially_hazardous_asteroid'] == 1).sum() > 0, 'No hay ningun record en `df_hazardous` donde is_potentially_hazardous_asteroid sea `True`'\n",
    "    \n",
    "    assert (df_bigger_than_1000['estimated_diameter.meters.estimated_diameter_max'] <= 1000).sum() == 0, 'Algunos records en `df_bigger_than_1000` pertenecen a objetos con diámetro menor a 1000 metros'\n",
    "    assert (df_bigger_than_1000['estimated_diameter.meters.estimated_diameter_max'] > 1000).sum() > 0, 'No hay ningún record en `df_bigger_than_1000` que pertenezca a objetos con diámetro mayor a 1000 metros'\n",
    "    \n",
    "    february = pd.to_datetime('1995-02-01', format='%Y-%m-%d').timestamp() * 1000\n",
    "    march = pd.to_datetime('1995-03-01', format='%Y-%m-%d').timestamp() * 1000 \n",
    "    \n",
    "    assert (df_february['epoch_date_close_approach'] < february).sum() == 0, 'Algunos records de `df_february` pertenecen a meses anteriores a Febrero de 1995'\n",
    "    assert (df_february['epoch_date_close_approach'] >= march).sum() == 0, 'Algunos records de `df_february` pertenecen a meses posteriores a Febrero de 1995'\n",
    "    \n",
    "    print('Todos tus subconjuntos son correctos. ¡Gran trabajo!')\n",
    "\n",
    "checar_subconjuntos(df_february, df_hazardous, df_bigger_than_1000)"
   ]
  }
 ],
 "metadata": {
  "kernelspec": {
   "display_name": "Python 3",
   "language": "python",
   "name": "python3"
  },
  "language_info": {
   "codemirror_mode": {
    "name": "ipython",
    "version": 3
   },
   "file_extension": ".py",
   "mimetype": "text/x-python",
   "name": "python",
   "nbconvert_exporter": "python",
   "pygments_lexer": "ipython3",
   "version": "3.11.3"
  }
 },
 "nbformat": 4,
 "nbformat_minor": 4
}
