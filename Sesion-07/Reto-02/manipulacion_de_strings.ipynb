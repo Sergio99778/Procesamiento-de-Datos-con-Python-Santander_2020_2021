{
 "cells": [
  {
   "cell_type": "markdown",
   "metadata": {},
   "source": [
    "## Reto 2: Manipulación de Strings\n",
    "\n",
    "### 1. Objetivos:\n",
    "    - Practicar manipular `strings` usando métodos como `split`, `title`, `strip, etc.\n",
    " \n",
    "---\n",
    "    \n",
    "### 2. Desarrollo:"
   ]
  },
  {
   "cell_type": "markdown",
   "metadata": {},
   "source": [
    "#### Limpiando strings usando la propiedad `str`\n",
    "\n",
    "Vamos a trabajar en la versión del dataset que guardaste en el reto pasado. Las acciones que tienes que tomar en este Reto son las siguientes:\n",
    "\n",
    "1. Reemplaza los guiones en las `strings` de la columna `orbit_class_description` por espacios.\n",
    "2. Elimina los espacios vacíos al principio y final de las `strings` de la misma columna.\n",
    "3. Hay una columna llamada `id_name` que contiene el 'id' y el nombre de cada objeto separados por un guión. Separa estos datos en dos columnas llamadas `id` y `name`.\n",
    "4. Haz que las `strings` de la columna `orbiting_body` empiecen con mayúscula.\n",
    "5. Asigna el `DataFrame` resultante a la variable `df_reto_2`.\n",
    "6. Guarda tu resultado en un archivo .csv."
   ]
  },
  {
   "cell_type": "code",
   "execution_count": 1,
   "metadata": {},
   "outputs": [],
   "source": [
    "import pandas as pd"
   ]
  },
  {
   "cell_type": "code",
   "execution_count": 3,
   "metadata": {},
   "outputs": [],
   "source": [
    "df_reto_1 = pd.read_csv('../retos/reto_1.csv')"
   ]
  },
  {
   "cell_type": "code",
   "execution_count": 11,
   "metadata": {},
   "outputs": [],
   "source": [
    "# 1. orbit_class_description\n",
    "df_reto_1['orbit_class_description'] = df_reto_1['orbit_class_description'].replace('-', ' ')\n",
    "# 2. strip orbit_class_description\n",
    "df_reto_1['orbit_class_description'] = df_reto_1['orbit_class_description'].str.strip()\n",
    "# 3. id_name\n",
    "df_reto_1[['id','name']] = df_reto_1['id_name'].str.split('-', expand=True)\n",
    "# 4. orbiting_body\n",
    "df_reto_1['orbiting_body'] = df_reto_1['orbiting_body'].str.capitalize()\n",
    "# 5. df_reto_2\n",
    "df_reto_2 = df_reto_1.copy()\n",
    "#  write to csv\n",
    "df_reto_2.to_csv('../retos/reto_2.csv', index=False)"
   ]
  },
  {
   "cell_type": "markdown",
   "metadata": {},
   "source": [
    "¡Compara con tus compañeros y con la experta tu solución para asegurarte de que realizaste los procesos adecuadamente!"
   ]
  }
 ],
 "metadata": {
  "kernelspec": {
   "display_name": "Python 3",
   "language": "python",
   "name": "python3"
  },
  "language_info": {
   "codemirror_mode": {
    "name": "ipython",
    "version": 3
   },
   "file_extension": ".py",
   "mimetype": "text/x-python",
   "name": "python",
   "nbconvert_exporter": "python",
   "pygments_lexer": "ipython3",
   "version": "3.11.3"
  }
 },
 "nbformat": 4,
 "nbformat_minor": 4
}
