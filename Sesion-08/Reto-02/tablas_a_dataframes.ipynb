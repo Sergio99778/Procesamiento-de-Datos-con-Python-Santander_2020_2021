{
 "cells": [
  {
   "cell_type": "markdown",
   "metadata": {},
   "source": [
    "## Reto 2: Convertir tablas en MySQL a `DataFrames` de `pandas`\n",
    "\n",
    "### 1. Objetivos:\n",
    "    - Solicitar todos los datos de las tablas que están almacenadas en nuestra base de datos, convertirlos a `DataFrames` y guardarlos.\n",
    "    \n",
    "---\n",
    "    \n",
    "### 2. Desarrollo:"
   ]
  },
  {
   "cell_type": "markdown",
   "metadata": {},
   "source": [
    "#### a) Tablas a `DataFrames`\n",
    "\n",
    "Ya que tenemos nuestra conexión funcionando adecuadamente, vamos a utilizarla para realizar consultas a las base de datos y construir una base de datos local. Tu Reto consiste en los siguientes pasos:\n",
    "\n",
    "1. Vuelve a establecer la conexión a la base de datos\n",
    "2. Usando el comando `SELECT * FROM nombre_de_tabla`, realiza consultas a cada una de las 5 tablas que existen en la base de datos.\n",
    "3. Crea un `DataFrame` por cada tabla que obtuviste. Para asignarle los nombres de las columnas correctamente, revisa el archivo [Readme.md](../../Datasets/MovieLens/Readme.md) donde está contenida toda esa información.\n",
    "4. Asegúrate de que el índice sea adecuado en cada `DataFrame`. En los casos en los que haya datos redundantes, convierte una de las columnas en índice.\n",
    "5. Si lo deseas ordena las columnas de la manera en la que mejor te parezca.\n",
    "6. Guarda tus `DataFrames` en formato .csv para utilizarlos en los siguientes Retos.\n",
    "\n",
    "> **NOTA IMPORTANTE**: La tabla movies es un poco complicada porque contiene muchos signos distintos. Tanto en la columna de nombre de película como la de género, encontramos signos como `,`, `:`, `.`, `|`. Esto hace un poco complicado el almacenamiento y lectura de este archivo. Si elijes guardar este archivo como un .csv separado por comas (`,`), a la hora de leerlo de regreso, `pandas` puede confundirse y pensar que el título de una película que contiene comas constituye dos columnas. Por esta razón, te recomiendo que la tabla `movies` la guardes agregando un separador poco convencional como `sep='$'`. De esta manera será muchísimo más fácil leer tu archivo de regreso usando ese separador."
   ]
  },
  {
   "cell_type": "code",
   "execution_count": 21,
   "metadata": {},
   "outputs": [],
   "source": [
    "import mysql.connector as _mysql\n",
    "from mysql.connector import Error\n",
    "import pandas as pd\n"
   ]
  },
  {
   "cell_type": "code",
   "execution_count": 22,
   "metadata": {},
   "outputs": [],
   "source": [
    "\n",
    "def create_db_connection():\n",
    "    try:\n",
    "        db = _mysql.connect(  host = \"ec2-34-219-233-69.us-west-2.compute.amazonaws.com\", \n",
    "                      user = \"data\", \n",
    "                      passwd = \"khQ9--mp6LWq97iA\",\n",
    "                        database = \"movielens\")\n",
    "        #   Imprimir los nombres de las tablas\n",
    "        return db\n",
    "    except Error as e:\n",
    "        print(\"Error while connecting to MySQL\", e)\n"
   ]
  },
  {
   "cell_type": "code",
   "execution_count": 23,
   "metadata": {},
   "outputs": [
    {
     "name": "stdout",
     "output_type": "stream",
     "text": [
      "[('age_ranges',), ('movies',), ('occupations',), ('ratings',), ('users',)]\n"
     ]
    }
   ],
   "source": [
    "\n",
    "try:\n",
    "    db = create_db_connection()\n",
    "    cursor = db.cursor()\n",
    "    cursor.execute(\"SHOW TABLES\")   \n",
    "    tableNames = cursor.fetchall()  \n",
    "    print(tableNames)\n",
    "except Error as e:\n",
    "  print(\"Error while connecting to MySQL\", e)"
   ]
  },
  {
   "cell_type": "markdown",
   "metadata": {},
   "source": [
    "Compara con tus compañeros y revisa con la experta para que todos estén seguros de que tienen sus `DataFrames` estructurados de la manera correcta y que sus archivos .csv fueron creados exitosamente. Vamos a utilizar estos archivos en los Retos siguientes, así que es muy importante que tus datos estén estructurados adecuadamente."
   ]
  },
  {
   "cell_type": "code",
   "execution_count": 24,
   "metadata": {},
   "outputs": [
    {
     "name": "stdout",
     "output_type": "stream",
     "text": [
      "['age_ranges', 'movies', 'occupations', 'ratings', 'users']\n",
      "age_ranges\n",
      "movies\n",
      "occupations\n",
      "ratings\n",
      "users\n"
     ]
    }
   ],
   "source": [
    "tableNames = [x[0] for x in tableNames]\n",
    "print(tableNames)\n",
    "dfs = {}\n",
    "for tableName in tableNames:\n",
    "    print(tableName)\n",
    "    cursor.execute(\"SELECT * FROM \" + tableName)\n",
    "    rows = cursor.fetchall()\n",
    "    columns = cursor.column_names\n",
    "    df = pd.DataFrame(rows, columns=columns)\n",
    "    dfs[tableName] = df"
   ]
  },
  {
   "cell_type": "code",
   "execution_count": 27,
   "metadata": {},
   "outputs": [],
   "source": [
    "\n",
    "# Save to csvs\n",
    "for tableName, df in dfs.items():\n",
    "    df.to_csv(\"../data/\"+tableName + \".csv\", index=False, sep=\"|\")\n"
   ]
  }
 ],
 "metadata": {
  "kernelspec": {
   "display_name": "Python 3",
   "language": "python",
   "name": "python3"
  },
  "language_info": {
   "codemirror_mode": {
    "name": "ipython",
    "version": 3
   },
   "file_extension": ".py",
   "mimetype": "text/x-python",
   "name": "python",
   "nbconvert_exporter": "python",
   "pygments_lexer": "ipython3",
   "version": "3.11.3"
  }
 },
 "nbformat": 4,
 "nbformat_minor": 4
}
