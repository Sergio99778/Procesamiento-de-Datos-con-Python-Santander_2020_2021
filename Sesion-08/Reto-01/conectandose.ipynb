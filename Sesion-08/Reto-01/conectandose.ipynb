{
 "cells": [
  {
   "cell_type": "markdown",
   "metadata": {},
   "source": [
    "## Reto 1: Conectándose a una base de datos\n",
    "\n",
    "### 1. Objetivos:\n",
    "    - Practicar conectarse a una base de datos y revisar la conexión.\n",
    "    \n",
    "---\n",
    "    \n",
    "### 2. Desarrollo:"
   ]
  },
  {
   "cell_type": "markdown",
   "metadata": {},
   "source": [
    "#### a) Conectándose a MySQL\n",
    "\n",
    "Este primer Reto es muy sencillo: \n",
    "\n",
    "1. Pídele a tu experta los datos de conexión que necesitas para conectarte al SGBD que ha sido levantado para esta sesión.\n",
    "2. Si no lo has hecho ya, instala la librería `mysql-connector`.\n",
    "3. Conéctate a la base de datos usando `mysql-connector`.\n",
    "4. Revisa que estás conectado a la base de datos pidiendo los nombres de todas las tablas en la base de datos."
   ]
  },
  {
   "cell_type": "code",
   "execution_count": 14,
   "metadata": {},
   "outputs": [],
   "source": [
    "# !pip install mysql-connector-python\n"
   ]
  },
  {
   "cell_type": "code",
   "execution_count": 15,
   "metadata": {},
   "outputs": [],
   "source": [
    "\n",
    "import mysql.connector as _mysql\n",
    "from mysql.connector import Error"
   ]
  },
  {
   "cell_type": "code",
   "execution_count": 16,
   "metadata": {},
   "outputs": [],
   "source": [
    "\n",
    "def create_db_connection():\n",
    "    try:\n",
    "        db = _mysql.connect(  host = \"ec2-34-219-233-69.us-west-2.compute.amazonaws.com\", \n",
    "                      user = \"data\", \n",
    "                      passwd = \"khQ9--mp6LWq97iA\",\n",
    "                        database = \"movielens\")\n",
    "        #   Imprimir los nombres de las tablas\n",
    "        return db\n",
    "    except Error as e:\n",
    "        print(\"Error while connecting to MySQL\", e)\n"
   ]
  },
  {
   "cell_type": "code",
   "execution_count": 17,
   "metadata": {},
   "outputs": [
    {
     "name": "stdout",
     "output_type": "stream",
     "text": [
      "('age_ranges',)\n",
      "('movies',)\n",
      "('occupations',)\n",
      "('ratings',)\n",
      "('users',)\n"
     ]
    },
    {
     "data": {
      "text/plain": [
       "<mysql.connector.connection_cext.CMySQLConnection at 0x7f55165ee650>"
      ]
     },
     "execution_count": 17,
     "metadata": {},
     "output_type": "execute_result"
    }
   ],
   "source": [
    "\n",
    "db = create_db_connection()\n",
    "cursor = db.cursor()\n",
    "cursor.execute(\"SHOW TABLES\")   \n",
    "for table in cursor:\n",
    "    print(table)\n",
    "cursor.close()\n",
    "db.close()\n",
    "create_db_connection()"
   ]
  },
  {
   "cell_type": "markdown",
   "metadata": {},
   "source": [
    "Asegúrate de que tu conexión esté funcionando. Cualquier duda que tengas, la puedes expresar a tu experta. Es muy importante que te conectes exitosamente para poder realizar todos los Retos siguientes."
   ]
  }
 ],
 "metadata": {
  "kernelspec": {
   "display_name": "Python 3",
   "language": "python",
   "name": "python3"
  },
  "language_info": {
   "codemirror_mode": {
    "name": "ipython",
    "version": 3
   },
   "file_extension": ".py",
   "mimetype": "text/x-python",
   "name": "python",
   "nbconvert_exporter": "python",
   "pygments_lexer": "ipython3",
   "version": "3.11.3"
  }
 },
 "nbformat": 4,
 "nbformat_minor": 4
}
