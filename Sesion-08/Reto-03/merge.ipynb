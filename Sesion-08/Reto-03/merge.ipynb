{
 "cells": [
  {
   "cell_type": "markdown",
   "metadata": {},
   "source": [
    "## Reto 3: `merge` para completar información faltante\n",
    "\n",
    "### 1. Objetivos:\n",
    "    - Completar la tabla `users` usando la información contenida en las tablas `occupations` y `age_ranges`.\n",
    "    \n",
    "---\n",
    "    \n",
    "### 2. Desarrollo:"
   ]
  },
  {
   "cell_type": "markdown",
   "metadata": {},
   "source": [
    "#### a) Complementado información usando el método `merge`\n",
    "\n",
    "No es muy práctico tener las tablas `occupations` y `age_range` por sí solas, ya que la información que contienen está íntimamente relacionada con al información de la tabla `users`. Vamos entonces a unir las tres tablas en una sola tabla para tener esa información mucho más accesible. Tu Reto consiste en los siguientes pasos:\n",
    "\n",
    "1. Lee tus archivos `users`, `occupations` y `age_range` (o como sea que les quisiste llamar) y conviértelos en `DataFrames`.\n",
    "2. Utiliza el método `merge` para agregar la información contenida en la tabla `occupations` a la tabla `users`.\n",
    "3. Utiliza el método `merge` para agregar la información contenida en la tabla `age_ranges` a la tabla `users`.\n",
    "4. Si lo consideras necesario, renombra y reordena las columnas para que la información sea clara.\n",
    "5. Guarda tu nuevo conjunto de datos en un nuevo archivo .csv."
   ]
  },
  {
   "cell_type": "code",
   "execution_count": 21,
   "metadata": {},
   "outputs": [],
   "source": [
    "import pandas as pd"
   ]
  },
  {
   "cell_type": "code",
   "execution_count": 22,
   "metadata": {},
   "outputs": [],
   "source": [
    "users = pd.read_csv('../data/users.csv', sep='|')\n",
    "occupations = pd.read_csv('../data/occupations.csv', sep='|')\n",
    "age_ranges = pd.read_csv('../data/age_ranges.csv', sep='|')\n"
   ]
  },
  {
   "cell_type": "code",
   "execution_count": 23,
   "metadata": {},
   "outputs": [
    {
     "data": {
      "text/html": [
       "<div>\n",
       "<style scoped>\n",
       "    .dataframe tbody tr th:only-of-type {\n",
       "        vertical-align: middle;\n",
       "    }\n",
       "\n",
       "    .dataframe tbody tr th {\n",
       "        vertical-align: top;\n",
       "    }\n",
       "\n",
       "    .dataframe thead th {\n",
       "        text-align: right;\n",
       "    }\n",
       "</style>\n",
       "<table border=\"1\" class=\"dataframe\">\n",
       "  <thead>\n",
       "    <tr style=\"text-align: right;\">\n",
       "      <th></th>\n",
       "      <th>age_id</th>\n",
       "      <th>range</th>\n",
       "    </tr>\n",
       "  </thead>\n",
       "  <tbody>\n",
       "    <tr>\n",
       "      <th>0</th>\n",
       "      <td>1</td>\n",
       "      <td>Under 18</td>\n",
       "    </tr>\n",
       "    <tr>\n",
       "      <th>1</th>\n",
       "      <td>18</td>\n",
       "      <td>18-24</td>\n",
       "    </tr>\n",
       "    <tr>\n",
       "      <th>2</th>\n",
       "      <td>25</td>\n",
       "      <td>25-34</td>\n",
       "    </tr>\n",
       "    <tr>\n",
       "      <th>3</th>\n",
       "      <td>35</td>\n",
       "      <td>35-44</td>\n",
       "    </tr>\n",
       "    <tr>\n",
       "      <th>4</th>\n",
       "      <td>45</td>\n",
       "      <td>45-49</td>\n",
       "    </tr>\n",
       "  </tbody>\n",
       "</table>\n",
       "</div>"
      ],
      "text/plain": [
       "   age_id     range\n",
       "0       1  Under 18\n",
       "1      18     18-24\n",
       "2      25     25-34\n",
       "3      35     35-44\n",
       "4      45     45-49"
      ]
     },
     "execution_count": 23,
     "metadata": {},
     "output_type": "execute_result"
    }
   ],
   "source": [
    "\n",
    "age_ranges.head()"
   ]
  },
  {
   "cell_type": "code",
   "execution_count": 24,
   "metadata": {},
   "outputs": [
    {
     "data": {
      "text/html": [
       "<div>\n",
       "<style scoped>\n",
       "    .dataframe tbody tr th:only-of-type {\n",
       "        vertical-align: middle;\n",
       "    }\n",
       "\n",
       "    .dataframe tbody tr th {\n",
       "        vertical-align: top;\n",
       "    }\n",
       "\n",
       "    .dataframe thead th {\n",
       "        text-align: right;\n",
       "    }\n",
       "</style>\n",
       "<table border=\"1\" class=\"dataframe\">\n",
       "  <thead>\n",
       "    <tr style=\"text-align: right;\">\n",
       "      <th></th>\n",
       "      <th>gender</th>\n",
       "      <th>cp</th>\n",
       "      <th>occupation_id</th>\n",
       "      <th>age_id</th>\n",
       "      <th>occupation</th>\n",
       "      <th>age_range</th>\n",
       "    </tr>\n",
       "    <tr>\n",
       "      <th>user_id</th>\n",
       "      <th></th>\n",
       "      <th></th>\n",
       "      <th></th>\n",
       "      <th></th>\n",
       "      <th></th>\n",
       "      <th></th>\n",
       "    </tr>\n",
       "  </thead>\n",
       "  <tbody>\n",
       "    <tr>\n",
       "      <th>1</th>\n",
       "      <td>F</td>\n",
       "      <td>48067</td>\n",
       "      <td>10</td>\n",
       "      <td>1</td>\n",
       "      <td>K-12 student</td>\n",
       "      <td>Under 18</td>\n",
       "    </tr>\n",
       "    <tr>\n",
       "      <th>2</th>\n",
       "      <td>M</td>\n",
       "      <td>70072</td>\n",
       "      <td>16</td>\n",
       "      <td>56</td>\n",
       "      <td>self-employed</td>\n",
       "      <td>56+</td>\n",
       "    </tr>\n",
       "    <tr>\n",
       "      <th>3</th>\n",
       "      <td>M</td>\n",
       "      <td>55117</td>\n",
       "      <td>15</td>\n",
       "      <td>25</td>\n",
       "      <td>scientist</td>\n",
       "      <td>25-34</td>\n",
       "    </tr>\n",
       "    <tr>\n",
       "      <th>4</th>\n",
       "      <td>M</td>\n",
       "      <td>02460</td>\n",
       "      <td>7</td>\n",
       "      <td>45</td>\n",
       "      <td>executive/managerial</td>\n",
       "      <td>45-49</td>\n",
       "    </tr>\n",
       "    <tr>\n",
       "      <th>5</th>\n",
       "      <td>M</td>\n",
       "      <td>55455</td>\n",
       "      <td>20</td>\n",
       "      <td>25</td>\n",
       "      <td>writer</td>\n",
       "      <td>25-34</td>\n",
       "    </tr>\n",
       "  </tbody>\n",
       "</table>\n",
       "</div>"
      ],
      "text/plain": [
       "        gender     cp  occupation_id  age_id            occupation age_range\n",
       "user_id                                                                     \n",
       "1            F  48067             10       1          K-12 student  Under 18\n",
       "2            M  70072             16      56         self-employed       56+\n",
       "3            M  55117             15      25             scientist     25-34\n",
       "4            M  02460              7      45  executive/managerial     45-49\n",
       "5            M  55455             20      25                writer     25-34"
      ]
     },
     "execution_count": 24,
     "metadata": {},
     "output_type": "execute_result"
    }
   ],
   "source": [
    "users['occupation_id'] = users['occupation']\n",
    "users['age_id'] = users['age']\n",
    "users = users.merge(occupations, on='occupation_id', how='left')\n",
    "users = users.merge(age_ranges, on='age_id', how='left')\n",
    "users.set_index('user_id', inplace=True, drop=True)\n",
    "users.drop(['occupation', 'age'], axis=1, inplace=True)\n",
    "column_dict = {\n",
    "    'description': 'occupation',\n",
    "    'range': 'age_range'\n",
    "}\n",
    "users.rename(columns=column_dict, inplace=True)\n",
    "users.head()"
   ]
  },
  {
   "cell_type": "code",
   "execution_count": 25,
   "metadata": {},
   "outputs": [],
   "source": [
    "users.to_csv('../data/users-merged.csv', index=False, sep='|')"
   ]
  },
  {
   "cell_type": "markdown",
   "metadata": {},
   "source": [
    "Compara tus resultados con tus compañeros y tu experta para asegurarse de que todos tengan un conjunto similar que contenga toda la información requerida."
   ]
  }
 ],
 "metadata": {
  "kernelspec": {
   "display_name": "Python 3",
   "language": "python",
   "name": "python3"
  },
  "language_info": {
   "codemirror_mode": {
    "name": "ipython",
    "version": 3
   },
   "file_extension": ".py",
   "mimetype": "text/x-python",
   "name": "python",
   "nbconvert_exporter": "python",
   "pygments_lexer": "ipython3",
   "version": "3.11.3"
  }
 },
 "nbformat": 4,
 "nbformat_minor": 4
}
