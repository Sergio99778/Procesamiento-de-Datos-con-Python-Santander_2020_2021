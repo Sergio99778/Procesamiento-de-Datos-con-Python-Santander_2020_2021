{
 "cells": [
  {
   "cell_type": "markdown",
   "metadata": {},
   "source": [
    "## Reto 4: Concatenación de `Series` y `DataFrames`\n",
    "\n",
    "### 1. Objetivos:\n",
    "    - Practicar la concatenación de `Series` y `DataFrames` usando `np.concat` y `pandas.DataFrame.append`\n",
    " \n",
    "---\n",
    "    \n",
    "### 2. Desarrollo:"
   ]
  },
  {
   "cell_type": "markdown",
   "metadata": {},
   "source": [
    "### a) Sumando ventas por producto y por mes\n",
    "\n",
    "Eres el analista financiero de EyePoker Inc. Tienes 12 listas con datos. Cada lista contiene la cantidad de unidades vendidas por producto en un mes determinado.\n",
    "\n",
    "Tienes también una lista con los nombres de los productos que ofrece la empresa. \n",
    "\n",
    "Tanto las listas de ventas como la lista de nombres están ordenadas igual. Eso quiere decir que cada índice de cada lista pertenece a datos del mismo producto (es decir, `ventas_enero[3]`, `ventas_febrero[3]`, `ventas_marzo[3]`, `ventas_abril[3]`, etc, todas pertenecen al producto en `productos[3]`).\n",
    "\n",
    "Tu reto es el siguiente:\n",
    "\n",
    "1. Convierte las listas es `Series` de pandas.\n",
    "2. Concatena horizontalmente las `Series` de ventas de manera que cada fila del `DataFrame` resultante corresponda al mismo producto.\n",
    "3. En alguno de los pasos anteriores, agrega los nombres de los productos como índice.\n",
    "4. Crea una nueva columna llamada `total_por_producto` que contenga la suma horizontal de las ventas mensuales de cada producto (es decir, un resumen de las ventas del año por producto).\n",
    "5. (Opcional) Agrega también una fila hasta el final que tenga como índice `total_por_mes` que contenga la suma vertical de las ventas de cada mes (la última celda va a ser la suma total de las ventas de todos los productos en todo el año).\n",
    "\n",
    "> **Tip**: Si quieres hacer el paso número 5, busca en Google el método `pandas.DataFrame.append`."
   ]
  },
  {
   "cell_type": "code",
   "execution_count": 15,
   "metadata": {},
   "outputs": [],
   "source": [
    "# Realiza aquí los imports que necesites\n",
    "import pandas as pd"
   ]
  },
  {
   "cell_type": "code",
   "execution_count": 16,
   "metadata": {},
   "outputs": [],
   "source": [
    "productos = [\"Pokemaster\", \"Cegatron\", \"Pikame Mucho\", \"Lazarillo de Tormes\", \"Stevie Wonder\", \"Needle\", \"El AyMeDuele\", \"El Desretinador\", \"Sacamel Ojocles\", \"Desojado\", \"Maribel Buenas Noches\", \"Cíclope\", \"El Cuatro Ojos\"]\n",
    "\n",
    "ventas_enero = [3, 5, 4, 45, 2, 32, 7, 89, 7, 6, 24, 51, 12]\n",
    "ventas_febrero = [7, 9, 0, 76, 4, 34, 1, 2, 34, 67, 8, 9, 0]\n",
    "ventas_marzo = [1, 1, 3, 56, 7, 98, 2, 34, 1, 0, 23, 1, 12]\n",
    "ventas_abril = [2, 34, 2, 1, 56, 78, 23, 3, 4, 23, 1, 78, 9]\n",
    "ventas_mayo = [1, 2, 32, 4, 32, 1, 45, 67, 87, 8, 9, 45, 2]\n",
    "ventas_junio = [1, 2, 32, 1, 45, 78, 8, 90, 0, 98, 7, 46, 15]\n",
    "ventas_julio = [15, 62, 37, 85, 5, 8, 9, 0, 75, 36, 52, 15, 12]\n",
    "ventas_agosto = [1, 2, 32, 4, 35, 6, 78, 43, 45, 12, 34, 67, 89]\n",
    "ventas_septiembre = [9, 87, 7, 6, 56, 7, 0, 34, 23, 1, 2, 51, 35]\n",
    "ventas_octubre = [16, 62, 75, 58, 97, 6, 9, 0, 98, 78, 2, 3, 4]\n",
    "ventas_noviembre = [1, 3, 2, 1, 4, 5, 2, 4, 7, 8, 4, 3, 5]\n",
    "ventas_diciembre = [7, 9, 0, 6, 3, 7, 3, 85, 9, 7, 8, 0, 9]"
   ]
  },
  {
   "cell_type": "code",
   "execution_count": 20,
   "metadata": {},
   "outputs": [],
   "source": [
    "ventas_enero = pd.Series(ventas_enero, name=\"Enero\")\n",
    "ventas_febrero = pd.Series(ventas_febrero, name=\"Febrero\")\n",
    "ventas_marzo = pd.Series(ventas_marzo, name=\"Marzo\")\n",
    "ventas_abril = pd.Series(ventas_abril, name=\"Abril\")\n",
    "ventas_mayo = pd.Series(ventas_mayo, name=\"Mayo\")\n",
    "ventas_junio = pd.Series(ventas_junio, name=\"Junio\")\n",
    "ventas_julio = pd.Series(ventas_julio, name=\"Julio\")\n",
    "ventas_agosto = pd.Series(ventas_agosto, name=\"Agosto\")\n",
    "ventas_septiembre = pd.Series(ventas_septiembre, name=\"Septiembre\")\n",
    "ventas_octubre = pd.Series(ventas_octubre, name=\"Octubre\")\n",
    "ventas_noviembre = pd.Series(ventas_noviembre, name=\"Noviembre\")\n",
    "ventas_diciembre = pd.Series(ventas_diciembre, name=\"Diciembre\")\n",
    "\n",
    "\n",
    "# Asigna tu resultado final a esta variable\n",
    "ventas_dataframe = pd.concat([ventas_enero, ventas_febrero, ventas_marzo, ventas_abril, ventas_mayo, ventas_junio, ventas_julio, ventas_agosto, ventas_septiembre, ventas_octubre, ventas_noviembre, ventas_diciembre], axis=1)\n",
    "ventas_dataframe.index = productos\n",
    "\n",
    "#  Total por producto\n",
    "ventas_dataframe[\"Total\"] = ventas_dataframe.sum(axis=1)\n",
    "# Total por mes\n",
    "ventas_dataframe.loc[\"Total\"] = ventas_dataframe.sum(axis=0)"
   ]
  },
  {
   "cell_type": "markdown",
   "metadata": {},
   "source": [
    "Pídele a tu experta la función de verificación `revisar_dataframe` (encontrada en el archivo `helpers.py` de la carpeta donde se encuentra este Reto), pégala debajo y corre la celda para verificar tu resultado:"
   ]
  },
  {
   "cell_type": "code",
   "execution_count": 22,
   "metadata": {},
   "outputs": [
    {
     "name": "stdout",
     "output_type": "stream",
     "text": [
      "                       enero  febrero  marzo  abril  mayo  junio  julio  \\\n",
      "Pokemaster               NaN      NaN    NaN    NaN   NaN    NaN    NaN   \n",
      "Cegatron                 NaN      NaN    NaN    NaN   NaN    NaN    NaN   \n",
      "Pikame Mucho             NaN      NaN    NaN    NaN   NaN    NaN    NaN   \n",
      "Lazarillo de Tormes      NaN      NaN    NaN    NaN   NaN    NaN    NaN   \n",
      "Stevie Wonder            NaN      NaN    NaN    NaN   NaN    NaN    NaN   \n",
      "Needle                   NaN      NaN    NaN    NaN   NaN    NaN    NaN   \n",
      "El AyMeDuele             NaN      NaN    NaN    NaN   NaN    NaN    NaN   \n",
      "El Desretinador          NaN      NaN    NaN    NaN   NaN    NaN    NaN   \n",
      "Sacamel Ojocles          NaN      NaN    NaN    NaN   NaN    NaN    NaN   \n",
      "Desojado                 NaN      NaN    NaN    NaN   NaN    NaN    NaN   \n",
      "Maribel Buenas Noches    NaN      NaN    NaN    NaN   NaN    NaN    NaN   \n",
      "Cíclope                  NaN      NaN    NaN    NaN   NaN    NaN    NaN   \n",
      "El Cuatro Ojos           NaN      NaN    NaN    NaN   NaN    NaN    NaN   \n",
      "\n",
      "                       agosto  septiembre  octubre  noviembre  diciembre  \n",
      "Pokemaster                NaN         NaN      NaN        NaN        NaN  \n",
      "Cegatron                  NaN         NaN      NaN        NaN        NaN  \n",
      "Pikame Mucho              NaN         NaN      NaN        NaN        NaN  \n",
      "Lazarillo de Tormes       NaN         NaN      NaN        NaN        NaN  \n",
      "Stevie Wonder             NaN         NaN      NaN        NaN        NaN  \n",
      "Needle                    NaN         NaN      NaN        NaN        NaN  \n",
      "El AyMeDuele              NaN         NaN      NaN        NaN        NaN  \n",
      "El Desretinador           NaN         NaN      NaN        NaN        NaN  \n",
      "Sacamel Ojocles           NaN         NaN      NaN        NaN        NaN  \n",
      "Desojado                  NaN         NaN      NaN        NaN        NaN  \n",
      "Maribel Buenas Noches     NaN         NaN      NaN        NaN        NaN  \n",
      "Cíclope                   NaN         NaN      NaN        NaN        NaN  \n",
      "El Cuatro Ojos            NaN         NaN      NaN        NaN        NaN  \n"
     ]
    },
    {
     "ename": "AttributeError",
     "evalue": "'DataFrame' object has no attribute 'append'",
     "output_type": "error",
     "traceback": [
      "\u001b[0;31m---------------------------------------------------------------------------\u001b[0m",
      "\u001b[0;31mAttributeError\u001b[0m                            Traceback (most recent call last)",
      "\u001b[0;32m/tmp/ipykernel_24590/3040682141.py\u001b[0m in \u001b[0;36m?\u001b[0;34m()\u001b[0m\n\u001b[1;32m     49\u001b[0m         \u001b[0mprint\u001b[0m\u001b[0;34m(\u001b[0m\u001b[0mventas_dataframe_2\u001b[0m\u001b[0;34m)\u001b[0m\u001b[0;34m\u001b[0m\u001b[0;34m\u001b[0m\u001b[0m\n\u001b[1;32m     50\u001b[0m         \u001b[0mprint\u001b[0m\u001b[0;34m(\u001b[0m\u001b[0;34m'\\nDataframe recibido:'\u001b[0m\u001b[0;34m)\u001b[0m\u001b[0;34m\u001b[0m\u001b[0;34m\u001b[0m\u001b[0m\n\u001b[1;32m     51\u001b[0m         \u001b[0mprint\u001b[0m\u001b[0;34m(\u001b[0m\u001b[0mventas_dataframe\u001b[0m\u001b[0;34m)\u001b[0m\u001b[0;34m\u001b[0m\u001b[0;34m\u001b[0m\u001b[0m\n\u001b[1;32m     52\u001b[0m \u001b[0;34m\u001b[0m\u001b[0m\n\u001b[0;32m---> 53\u001b[0;31m revisar_dataframe(ventas_dataframe, productos, ventas_enero, ventas_febrero, ventas_marzo, ventas_abril, ventas_mayo,\n\u001b[0m\u001b[1;32m     54\u001b[0m                       \u001b[0mventas_junio\u001b[0m\u001b[0;34m,\u001b[0m \u001b[0mventas_julio\u001b[0m\u001b[0;34m,\u001b[0m \u001b[0mventas_agosto\u001b[0m\u001b[0;34m,\u001b[0m \u001b[0mventas_septiembre\u001b[0m\u001b[0;34m,\u001b[0m\u001b[0;34m\u001b[0m\u001b[0;34m\u001b[0m\u001b[0m\n\u001b[1;32m     55\u001b[0m                       ventas_octubre, ventas_noviembre, ventas_diciembre)\n",
      "\u001b[0;32m/tmp/ipykernel_24590/3040682141.py\u001b[0m in \u001b[0;36m?\u001b[0;34m(ventas_dataframe, productos, ventas_enero, ventas_febrero, ventas_marzo, ventas_abril, ventas_mayo, ventas_junio, ventas_julio, ventas_agosto, ventas_septiembre, ventas_octubre, ventas_noviembre, ventas_diciembre)\u001b[0m\n\u001b[1;32m     23\u001b[0m     \u001b[0mventas_dataframe_2\u001b[0m\u001b[0;34m[\u001b[0m\u001b[0;34m'total_por_producto'\u001b[0m\u001b[0;34m]\u001b[0m \u001b[0;34m=\u001b[0m \u001b[0mventas_dataframe_2\u001b[0m\u001b[0;34m.\u001b[0m\u001b[0msum\u001b[0m\u001b[0;34m(\u001b[0m\u001b[0maxis\u001b[0m\u001b[0;34m=\u001b[0m\u001b[0;36m1\u001b[0m\u001b[0;34m)\u001b[0m\u001b[0;34m\u001b[0m\u001b[0;34m\u001b[0m\u001b[0m\n\u001b[1;32m     24\u001b[0m     \u001b[0mtotal_por_mes\u001b[0m \u001b[0;34m=\u001b[0m \u001b[0mventas_dataframe_2\u001b[0m\u001b[0;34m.\u001b[0m\u001b[0msum\u001b[0m\u001b[0;34m(\u001b[0m\u001b[0maxis\u001b[0m\u001b[0;34m=\u001b[0m\u001b[0;36m0\u001b[0m\u001b[0;34m)\u001b[0m\u001b[0;34m\u001b[0m\u001b[0;34m\u001b[0m\u001b[0m\n\u001b[1;32m     25\u001b[0m     \u001b[0mtotal_por_mes\u001b[0m\u001b[0;34m.\u001b[0m\u001b[0mname\u001b[0m \u001b[0;34m=\u001b[0m \u001b[0;34m'total_por_mes'\u001b[0m\u001b[0;34m\u001b[0m\u001b[0;34m\u001b[0m\u001b[0m\n\u001b[1;32m     26\u001b[0m \u001b[0;34m\u001b[0m\u001b[0m\n\u001b[0;32m---> 27\u001b[0;31m     \u001b[0mventas_dataframe_2\u001b[0m \u001b[0;34m=\u001b[0m \u001b[0mventas_dataframe_2\u001b[0m\u001b[0;34m.\u001b[0m\u001b[0mappend\u001b[0m\u001b[0;34m(\u001b[0m\u001b[0mtotal_por_mes\u001b[0m\u001b[0;34m)\u001b[0m\u001b[0;34m\u001b[0m\u001b[0;34m\u001b[0m\u001b[0m\n\u001b[0m\u001b[1;32m     28\u001b[0m \u001b[0;34m\u001b[0m\u001b[0m\n\u001b[1;32m     29\u001b[0m     \u001b[0;32mif\u001b[0m \u001b[0mventas_dataframe\u001b[0m\u001b[0;34m.\u001b[0m\u001b[0mequals\u001b[0m\u001b[0;34m(\u001b[0m\u001b[0mventas_dataframe_2\u001b[0m\u001b[0;34m)\u001b[0m\u001b[0;34m:\u001b[0m\u001b[0;34m\u001b[0m\u001b[0;34m\u001b[0m\u001b[0m\n\u001b[1;32m     30\u001b[0m         \u001b[0mprint\u001b[0m\u001b[0;34m(\u001b[0m\u001b[0;34mf'Felicidades! El procedimiento fue realizado correctamente.'\u001b[0m\u001b[0;34m)\u001b[0m\u001b[0;34m\u001b[0m\u001b[0;34m\u001b[0m\u001b[0m\n",
      "\u001b[0;32m~/Documents/bedu/Procesamiento-de-Datos-con-Python-Santander_2020_2021/venv/lib/python3.11/site-packages/pandas/core/generic.py\u001b[0m in \u001b[0;36m?\u001b[0;34m(self, name)\u001b[0m\n\u001b[1;32m   5985\u001b[0m             \u001b[0;32mand\u001b[0m \u001b[0mname\u001b[0m \u001b[0;32mnot\u001b[0m \u001b[0;32min\u001b[0m \u001b[0mself\u001b[0m\u001b[0;34m.\u001b[0m\u001b[0m_accessors\u001b[0m\u001b[0;34m\u001b[0m\u001b[0;34m\u001b[0m\u001b[0m\n\u001b[1;32m   5986\u001b[0m             \u001b[0;32mand\u001b[0m \u001b[0mself\u001b[0m\u001b[0;34m.\u001b[0m\u001b[0m_info_axis\u001b[0m\u001b[0;34m.\u001b[0m\u001b[0m_can_hold_identifiers_and_holds_name\u001b[0m\u001b[0;34m(\u001b[0m\u001b[0mname\u001b[0m\u001b[0;34m)\u001b[0m\u001b[0;34m\u001b[0m\u001b[0;34m\u001b[0m\u001b[0m\n\u001b[1;32m   5987\u001b[0m         ):\n\u001b[1;32m   5988\u001b[0m             \u001b[0;32mreturn\u001b[0m \u001b[0mself\u001b[0m\u001b[0;34m[\u001b[0m\u001b[0mname\u001b[0m\u001b[0;34m]\u001b[0m\u001b[0;34m\u001b[0m\u001b[0;34m\u001b[0m\u001b[0m\n\u001b[0;32m-> 5989\u001b[0;31m         \u001b[0;32mreturn\u001b[0m \u001b[0mobject\u001b[0m\u001b[0;34m.\u001b[0m\u001b[0m__getattribute__\u001b[0m\u001b[0;34m(\u001b[0m\u001b[0mself\u001b[0m\u001b[0;34m,\u001b[0m \u001b[0mname\u001b[0m\u001b[0;34m)\u001b[0m\u001b[0;34m\u001b[0m\u001b[0;34m\u001b[0m\u001b[0m\n\u001b[0m",
      "\u001b[0;31mAttributeError\u001b[0m: 'DataFrame' object has no attribute 'append'"
     ]
    }
   ],
   "source": [
    "# Pega aquí la función de verificación\n",
    "import pandas as pd\n",
    "\n",
    "def concatenar_listas_horizontalmente(lista_de_listas, indice):\n",
    "\n",
    "    meses = ['enero', 'febrero', 'marzo', 'abril', 'mayo', 'junio', 'julio', 'agosto', 'septiembre', 'octubre', 'noviembre',\n",
    "            'diciembre']\n",
    "\n",
    "    lista_de_series = []\n",
    "    for i in range(len(lista_de_listas)):\n",
    "        lista_de_series.append(pd.Series(lista_de_listas[i], index=indice, name=meses[i]))\n",
    "\n",
    "    dataframe = pd.concat(lista_de_series, axis=1)\n",
    "    print(dataframe)\n",
    "    return dataframe\n",
    "\n",
    "def revisar_dataframe(ventas_dataframe, productos, ventas_enero, ventas_febrero, ventas_marzo, ventas_abril, ventas_mayo,\n",
    "                      ventas_junio, ventas_julio, ventas_agosto, ventas_septiembre,\n",
    "                      ventas_octubre, ventas_noviembre, ventas_diciembre):    \n",
    "    ventas_dataframe_2 = concatenar_listas_horizontalmente([ventas_enero, ventas_febrero, ventas_marzo, ventas_abril, ventas_mayo,\n",
    "                                                      ventas_junio, ventas_julio, ventas_agosto, ventas_septiembre,\n",
    "                                                      ventas_octubre, ventas_noviembre, ventas_diciembre], productos)\n",
    "    ventas_dataframe_2['total_por_producto'] = ventas_dataframe_2.sum(axis=1)\n",
    "    total_por_mes = ventas_dataframe_2.sum(axis=0)\n",
    "    total_por_mes.name = 'total_por_mes'\n",
    "\n",
    "    ventas_dataframe_2 = ventas_dataframe_2.append(total_por_mes)\n",
    "    \n",
    "    if ventas_dataframe.equals(ventas_dataframe_2):\n",
    "        print(f'Felicidades! El procedimiento fue realizado correctamente.')\n",
    "        import seaborn as sns\n",
    "        import matplotlib.pyplot as plt\n",
    "        \n",
    "        fig, axs = plt.subplots(2, 1, figsize=(8, 12))\n",
    "        sin_total_por_mes = ventas_dataframe.drop(index='total_por_mes')\n",
    "        sin_total_por_mes.sort_values('total_por_producto', ascending=False, inplace=True)\n",
    "        axs[0].set_title('Ventas totales por producto')\n",
    "        sns.barplot(sin_total_por_mes['total_por_producto'], sin_total_por_mes.index, ax=axs[0])\n",
    "        \n",
    "        axs[1].set_title('Ventas totales por mes')\n",
    "        sin_total_por_producto = ventas_dataframe.drop(columns='total_por_producto')\n",
    "        sns.barplot(sin_total_por_producto.columns, sin_total_por_producto.loc['total_por_mes'], orient='v', ax=axs[1])\n",
    "        for item in axs[1].get_xticklabels():\n",
    "            item.set_rotation(45)\n",
    "        \n",
    "    else:\n",
    "        print(f'Hubo un error!\\n')\n",
    "        print('Dataframe esperado:')\n",
    "        print(ventas_dataframe_2)\n",
    "        print('\\nDataframe recibido:')\n",
    "        print(ventas_dataframe)\n",
    "        \n",
    "revisar_dataframe(ventas_dataframe, productos, ventas_enero, ventas_febrero, ventas_marzo, ventas_abril, ventas_mayo,\n",
    "                      ventas_junio, ventas_julio, ventas_agosto, ventas_septiembre,\n",
    "                      ventas_octubre, ventas_noviembre, ventas_diciembre)"
   ]
  },
  {
   "cell_type": "code",
   "execution_count": null,
   "metadata": {},
   "outputs": [],
   "source": []
  }
 ],
 "metadata": {
  "kernelspec": {
   "display_name": "Python 3",
   "language": "python",
   "name": "python3"
  },
  "language_info": {
   "codemirror_mode": {
    "name": "ipython",
    "version": 3
   },
   "file_extension": ".py",
   "mimetype": "text/x-python",
   "name": "python",
   "nbconvert_exporter": "python",
   "pygments_lexer": "ipython3",
   "version": "3.11.3"
  }
 },
 "nbformat": 4,
 "nbformat_minor": 4
}
